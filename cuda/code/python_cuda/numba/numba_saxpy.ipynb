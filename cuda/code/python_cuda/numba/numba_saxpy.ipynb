{
 "cells": [
  {
   "cell_type": "markdown",
   "metadata": {},
   "source": [
    "# Numba minimal introduction\n",
    "\n",
    "Playing with saxpy (single precision  A X plus Y)\n",
    "\n",
    "$x_i = a x_i + y_i, \\forall i \\in [0,N-1[$"
   ]
  },
  {
   "cell_type": "code",
   "execution_count": null,
   "metadata": {},
   "outputs": [],
   "source": [
    "import numpy as np"
   ]
  },
  {
   "cell_type": "code",
   "execution_count": null,
   "metadata": {},
   "outputs": [],
   "source": [
    "import time\n",
    "\n",
    "from numba import cuda\n",
    "\n",
    "def measure_saxpy_bandwidth(func, N, useCuda=False):\n",
    "    x = np.arange(N,dtype=np.float32)\n",
    "    y = 2*x+1\n",
    "    a = 0.5\n",
    "    if useCuda:\n",
    "        nThreads=256\n",
    "        nBlocks = (N+nThreads-1) // nThreads\n",
    "        start = cuda.event()\n",
    "        stop = cuda.event()\n",
    "        # copy to device\n",
    "        x_d = cuda.to_device(x)\n",
    "        y_d = cuda.to_device(y)\n",
    "        start.record()\n",
    "        func[nBlocks,nThreads](x_d,y_d,a)\n",
    "        stop.record()\n",
    "        stop.synchronize()\n",
    "        duration = cuda.event_elapsed_time(start,stop)/1000\n",
    "    else:\n",
    "        start = time.perf_counter()\n",
    "        func(x,y,a)\n",
    "        stop = time.perf_counter()\n",
    "        duration = stop-start\n",
    "    \n",
    "    # return bandwidth in GBytes/s\n",
    "    # there 3 memory operation : 2 reads, 1 write\n",
    "    # each memory operation involves N * sizeof(float32) = 4*N bytes\n",
    "    print(\"Bandwidth : {} GBytes/s\".format(3*(N*4)*1e-9/duration))\n",
    "    return 3*(N*4)*1e-9/duration"
   ]
  },
  {
   "cell_type": "markdown",
   "metadata": {},
   "source": [
    "## serial version : pure python"
   ]
  },
  {
   "cell_type": "code",
   "execution_count": null,
   "metadata": {},
   "outputs": [],
   "source": [
    "N = 1000\n",
    "x = np.arange(N,dtype=np.float32)\n",
    "y = 2*x+1\n",
    "a = 0.5\n",
    "def saxpy(x,y,a):\n",
    "    for i in range(x.shape[0]):\n",
    "        x[i] = a * x[i] + y[i]"
   ]
  },
  {
   "cell_type": "code",
   "execution_count": null,
   "metadata": {},
   "outputs": [],
   "source": [
    "%timeit saxpy(x,y,a)\n"
   ]
  },
  {
   "cell_type": "code",
   "execution_count": null,
   "metadata": {},
   "outputs": [],
   "source": [
    "measure_saxpy_bandwidth(saxpy,1000000)"
   ]
  },
  {
   "cell_type": "markdown",
   "metadata": {},
   "source": [
    "# serial version : just in time compiled"
   ]
  },
  {
   "cell_type": "code",
   "execution_count": null,
   "metadata": {},
   "outputs": [],
   "source": [
    "import numba\n",
    "\n",
    "@numba.jit(nopython=True)\n",
    "def saxpy_jit(x,y,a):\n",
    "    for i in range(x.shape[0]):\n",
    "        x[i] = a*x[i] + y[i]"
   ]
  },
  {
   "cell_type": "code",
   "execution_count": null,
   "metadata": {},
   "outputs": [],
   "source": [
    "%timeit saxpy_jit(x,y,a)"
   ]
  },
  {
   "cell_type": "code",
   "execution_count": null,
   "metadata": {},
   "outputs": [],
   "source": [
    "measure_saxpy_bandwidth(saxpy_jit,1000000)"
   ]
  },
  {
   "cell_type": "markdown",
   "metadata": {},
   "source": [
    "## using numba generalized universal functions (gufunc)\n"
   ]
  },
  {
   "cell_type": "code",
   "execution_count": null,
   "metadata": {},
   "outputs": [],
   "source": [
    "from numba import guvectorize, float32"
   ]
  },
  {
   "cell_type": "code",
   "execution_count": null,
   "metadata": {},
   "outputs": [],
   "source": [
    "@guvectorize([(float32[:], float32[:], float32, float32[:])], '(n),(n),()->(n)')\n",
    "def saxpy_vectorized(x, y, a, z):\n",
    "    for i in range(x.shape[0]):\n",
    "        z[i] = a*x[i] + y[i]\n"
   ]
  },
  {
   "cell_type": "code",
   "execution_count": null,
   "metadata": {},
   "outputs": [],
   "source": [
    "%timeit saxpy_vectorized(x,y,a,x)"
   ]
  },
  {
   "cell_type": "code",
   "execution_count": null,
   "metadata": {},
   "outputs": [],
   "source": [
    "measure_saxpy_bandwidth(saxpy_vectorized,1000000)"
   ]
  },
  {
   "cell_type": "markdown",
   "metadata": {},
   "source": [
    "## CPU parallel version : multithreading"
   ]
  },
  {
   "cell_type": "code",
   "execution_count": null,
   "metadata": {},
   "outputs": [],
   "source": [
    "from numba import config, njit, threading_layer\n",
    "\n",
    "# set the threading layer before any parallel target compilation\n",
    "#config.THREADING_LAYER = 'threadsafe'\n",
    "config.THREADING_LAYER = 'tbb'"
   ]
  },
  {
   "cell_type": "code",
   "execution_count": null,
   "metadata": {},
   "outputs": [],
   "source": [
    "import numba\n",
    "from numba import prange\n",
    "\n",
    "@numba.jit(nopython=True, parallel=True)\n",
    "def saxpy_jitp(x,y,a):\n",
    "    for i in prange(x.shape[0]):\n",
    "        x[i] = a*x[i] + y[i]"
   ]
  },
  {
   "cell_type": "code",
   "execution_count": null,
   "metadata": {},
   "outputs": [],
   "source": [
    "print(\"Threading layer chosen: %s\" % threading_layer())"
   ]
  },
  {
   "cell_type": "code",
   "execution_count": null,
   "metadata": {},
   "outputs": [],
   "source": [
    "%timeit axpy_jitp(x,y,a)"
   ]
  },
  {
   "cell_type": "code",
   "execution_count": null,
   "metadata": {},
   "outputs": [],
   "source": [
    "N=10000000\n",
    "x = np.arange(N,dtype=np.float32)\n",
    "y = 2*x+1\n",
    "a = 0.5"
   ]
  },
  {
   "cell_type": "code",
   "execution_count": null,
   "metadata": {},
   "outputs": [],
   "source": [
    "%timeit axpy_jit(x,y,a)\n",
    "%timeit axpy_jitp(x,y,a)"
   ]
  },
  {
   "cell_type": "markdown",
   "metadata": {},
   "source": [
    "# GPU parallel version with numba/cuda"
   ]
  },
  {
   "cell_type": "code",
   "execution_count": null,
   "metadata": {},
   "outputs": [],
   "source": [
    "from numba import cuda\n",
    "\n",
    "@cuda.jit('void(float32[:], float32[:], float32)')\n",
    "def saxpy_jit_cuda(x,y,a):\n",
    "    i = cuda.grid(1)\n",
    "    if i < x.shape[0]:\n",
    "        x[i] = a*x[i] + y[i]"
   ]
  },
  {
   "cell_type": "code",
   "execution_count": null,
   "metadata": {},
   "outputs": [],
   "source": [
    "measure_saxpy_bandwidth(saxpy_jit_cuda,100000000, True)"
   ]
  },
  {
   "cell_type": "code",
   "execution_count": null,
   "metadata": {},
   "outputs": [],
   "source": []
  }
 ],
 "metadata": {
  "kernelspec": {
   "display_name": "Python 3",
   "language": "python",
   "name": "python3"
  },
  "language_info": {
   "codemirror_mode": {
    "name": "ipython",
    "version": 3
   },
   "file_extension": ".py",
   "mimetype": "text/x-python",
   "name": "python",
   "nbconvert_exporter": "python",
   "pygments_lexer": "ipython3",
   "version": "3.8.5"
  }
 },
 "nbformat": 4,
 "nbformat_minor": 4
}
